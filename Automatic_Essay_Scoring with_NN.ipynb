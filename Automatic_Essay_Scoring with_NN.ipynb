{
 "cells": [
  {
   "cell_type": "code",
   "metadata": {
    "ExecuteTime": {
     "end_time": "2025-04-20T11:39:05.647873Z",
     "start_time": "2025-04-20T11:38:17.371115Z"
    }
   },
   "source": [
    "import numpy as np\n",
    "import pandas as pd\n",
    "import nltk\n",
    "import re\n",
    "\n",
    "from nltk.corpus import stopwords\n",
    "from nltk.tokenize import sent_tokenize, word_tokenize\n",
    "\n",
    "from gensim.models import Word2Vec\n",
    "\n",
    "from keras.models import Sequential, load_model, model_from_json\n",
    "from keras.layers import Embedding, LSTM, Dense, Dropout, Lambda, Flatten\n",
    "import keras.backend as K\n",
    "\n",
    "from sklearn.model_selection import train_test_split\n",
    "from sklearn.metrics import mean_squared_error, cohen_kappa_score\n",
    "\n",
    "# Use numpy's triu function\n",
    "triu = np.triu\n",
    "\n",
    "\n"
   ],
   "outputs": [],
   "execution_count": 5
  },
  {
   "metadata": {
    "ExecuteTime": {
     "end_time": "2025-04-20T11:39:19.624739Z",
     "start_time": "2025-04-20T11:39:19.621793Z"
    }
   },
   "cell_type": "code",
   "source": [
    "import numpy as np\n",
    "import sys\n",
    "\n",
    "# Patch scipy.linalg.triu to numpy.triu if it's being imported somewhere\n",
    "import types\n",
    "fake_linalg = types.SimpleNamespace(triu=np.triu)\n",
    "sys.modules['scipy.linalg'] = fake_linalg\n"
   ],
   "outputs": [],
   "execution_count": 6
  },
  {
   "metadata": {
    "ExecuteTime": {
     "end_time": "2025-04-20T11:39:20.491710Z",
     "start_time": "2025-04-20T11:39:20.483359Z"
    }
   },
   "cell_type": "code",
   "source": [
    "import numpy as np\n",
    "triu = np.triu\n",
    "\n",
    "matrix = np.array([[1, 2, 3], [4, 5, 6], [7, 8, 9]])\n",
    "upper_triangle = triu(matrix)\n",
    "\n",
    "print(upper_triangle)\n"
   ],
   "outputs": [
    {
     "name": "stdout",
     "output_type": "stream",
     "text": [
      "[[1 2 3]\n",
      " [0 5 6]\n",
      " [0 0 9]]\n"
     ]
    }
   ],
   "execution_count": 7
  },
  {
   "cell_type": "markdown",
   "metadata": {},
   "source": [
    "**Preparing Dataset**"
   ]
  },
  {
   "cell_type": "code",
   "metadata": {
    "ExecuteTime": {
     "end_time": "2025-04-20T11:39:23.264144Z",
     "start_time": "2025-04-20T11:39:22.619085Z"
    }
   },
   "source": [
    "import pandas as pd\n",
    "\n",
    "# Load the TSV file with proper separator and encoding\n",
    "df = pd.read_csv(\"Dataset/training_set_rel3.tsv\", sep='\\t', encoding='ISO-8859-1')\n",
    "\n",
    "# Drop columns that are completely NaN\n",
    "df.dropna(axis=1, inplace=True)\n",
    "\n",
    "# Drop specific columns safely\n",
    "columns_to_drop = ['domain1_score', 'rater1_domain1', 'rater2_domain1']\n",
    "for col in columns_to_drop:\n",
    "    if col in df.columns:\n",
    "        df.drop(columns=col, inplace=True)\n",
    "\n",
    "# Display first few rows\n",
    "print(df.head())\n",
    "\n",
    "# Load processed data\n",
    "temp = pd.read_csv(\"Processed_data.csv\")\n",
    "\n",
    "# Drop 'Unnamed: 0' only if it exists\n",
    "if 'Unnamed: 0' in temp.columns:\n",
    "    temp.drop(\"Unnamed: 0\", inplace=True, axis=1)\n",
    "\n",
    "# Optional: Show columns to confirm\n",
    "print(\"Columns in temp:\", temp.columns)\n"
   ],
   "outputs": [
    {
     "name": "stdout",
     "output_type": "stream",
     "text": [
      "   essay_id  essay_set                                              essay\n",
      "0         1          1  Dear local newspaper, I think effects computer...\n",
      "1         2          1  Dear @CAPS1 @CAPS2, I believe that using compu...\n",
      "2         3          1  Dear, @CAPS1 @CAPS2 @CAPS3 More and more peopl...\n",
      "3         4          1  Dear Local Newspaper, @CAPS1 I have found that...\n",
      "4         5          1  Dear @LOCATION1, I know having computers has a...\n",
      "Columns in temp: Index(['essay_id', 'essay_set', 'essay', 'final_score', 'clean_essay',\n",
      "       'char_count', 'word_count', 'sent_count', 'avg_word_len',\n",
      "       'spell_err_count', 'noun_count', 'adj_count', 'verb_count',\n",
      "       'adv_count'],\n",
      "      dtype='object')\n"
     ]
    }
   ],
   "execution_count": 8
  },
  {
   "cell_type": "code",
   "metadata": {
    "ExecuteTime": {
     "end_time": "2025-04-20T11:39:24.545163Z",
     "start_time": "2025-04-20T11:39:24.538042Z"
    }
   },
   "source": [
    "# Ensure both dataframes have the same number of rows\n",
    "if len(df) == len(temp):\n",
    "    df = df.copy()  # Avoid SettingWithCopyWarning\n",
    "    df['domain1_score'] = temp['final_score'].values  # assign as numpy array to avoid index issues\n",
    "    print(df.head())\n",
    "else:\n",
    "    print(\"Mismatch in row counts: df =\", len(df), \", temp =\", len(temp))\n"
   ],
   "outputs": [
    {
     "name": "stdout",
     "output_type": "stream",
     "text": [
      "   essay_id  essay_set                                              essay  \\\n",
      "0         1          1  Dear local newspaper, I think effects computer...   \n",
      "1         2          1  Dear @CAPS1 @CAPS2, I believe that using compu...   \n",
      "2         3          1  Dear, @CAPS1 @CAPS2 @CAPS3 More and more peopl...   \n",
      "3         4          1  Dear Local Newspaper, @CAPS1 I have found that...   \n",
      "4         5          1  Dear @LOCATION1, I know having computers has a...   \n",
      "\n",
      "   domain1_score  \n",
      "0              6  \n",
      "1              7  \n",
      "2              5  \n",
      "3              8  \n",
      "4              6  \n"
     ]
    }
   ],
   "execution_count": 9
  },
  {
   "cell_type": "code",
   "metadata": {
    "ExecuteTime": {
     "end_time": "2025-04-20T11:39:25.511541Z",
     "start_time": "2025-04-20T11:39:25.503190Z"
    }
   },
   "source": [
    "df['essay'][0]"
   ],
   "outputs": [
    {
     "data": {
      "text/plain": [
       "\"Dear local newspaper, I think effects computers have on people are great learning skills/affects because they give us time to chat with friends/new people, helps us learn about the globe(astronomy) and keeps us out of troble! Thing about! Dont you think so? How would you feel if your teenager is always on the phone with friends! Do you ever time to chat with your friends or buisness partner about things. Well now - there's a new way to chat the computer, theirs plenty of sites on the internet to do so: @ORGANIZATION1, @ORGANIZATION2, @CAPS1, facebook, myspace ect. Just think now while your setting up meeting with your boss on the computer, your teenager is having fun on the phone not rushing to get off cause you want to use it. How did you learn about other countrys/states outside of yours? Well I have by computer/internet, it's a new way to learn about what going on in our time! You might think your child spends a lot of time on the computer, but ask them so question about the economy, sea floor spreading or even about the @DATE1's you'll be surprise at how much he/she knows. Believe it or not the computer is much interesting then in class all day reading out of books. If your child is home on your computer or at a local library, it's better than being out with friends being fresh, or being perpressured to doing something they know isnt right. You might not know where your child is, @CAPS2 forbidde in a hospital bed because of a drive-by. Rather than your child on the computer learning, chatting or just playing games, safe and sound in your home or community place. Now I hope you have reached a point to understand and agree with me, because computers can have great effects on you or child because it gives us time to chat with friends/new people, helps us learn about the globe and believe or not keeps us out of troble. Thank you for listening.\""
      ]
     },
     "execution_count": 10,
     "metadata": {},
     "output_type": "execute_result"
    }
   ],
   "execution_count": 10
  },
  {
   "cell_type": "code",
   "metadata": {
    "ExecuteTime": {
     "end_time": "2025-04-20T11:39:26.876397Z",
     "start_time": "2025-04-20T11:39:26.866193Z"
    }
   },
   "source": [
    "temp.head(1)"
   ],
   "outputs": [
    {
     "data": {
      "text/plain": [
       "   essay_id  essay_set                                              essay  \\\n",
       "0         1          1  Dear local newspaper, I think effects computer...   \n",
       "\n",
       "   final_score                                        clean_essay  char_count  \\\n",
       "0            6  Dear local newspaper  I think effects computer...        1441   \n",
       "\n",
       "   word_count  sent_count  avg_word_len  spell_err_count  noun_count  \\\n",
       "0         344          16      4.188953               11          76   \n",
       "\n",
       "   adj_count  verb_count  adv_count  \n",
       "0         75          18         24  "
      ],
      "text/html": [
       "<div>\n",
       "<style scoped>\n",
       "    .dataframe tbody tr th:only-of-type {\n",
       "        vertical-align: middle;\n",
       "    }\n",
       "\n",
       "    .dataframe tbody tr th {\n",
       "        vertical-align: top;\n",
       "    }\n",
       "\n",
       "    .dataframe thead th {\n",
       "        text-align: right;\n",
       "    }\n",
       "</style>\n",
       "<table border=\"1\" class=\"dataframe\">\n",
       "  <thead>\n",
       "    <tr style=\"text-align: right;\">\n",
       "      <th></th>\n",
       "      <th>essay_id</th>\n",
       "      <th>essay_set</th>\n",
       "      <th>essay</th>\n",
       "      <th>final_score</th>\n",
       "      <th>clean_essay</th>\n",
       "      <th>char_count</th>\n",
       "      <th>word_count</th>\n",
       "      <th>sent_count</th>\n",
       "      <th>avg_word_len</th>\n",
       "      <th>spell_err_count</th>\n",
       "      <th>noun_count</th>\n",
       "      <th>adj_count</th>\n",
       "      <th>verb_count</th>\n",
       "      <th>adv_count</th>\n",
       "    </tr>\n",
       "  </thead>\n",
       "  <tbody>\n",
       "    <tr>\n",
       "      <th>0</th>\n",
       "      <td>1</td>\n",
       "      <td>1</td>\n",
       "      <td>Dear local newspaper, I think effects computer...</td>\n",
       "      <td>6</td>\n",
       "      <td>Dear local newspaper  I think effects computer...</td>\n",
       "      <td>1441</td>\n",
       "      <td>344</td>\n",
       "      <td>16</td>\n",
       "      <td>4.188953</td>\n",
       "      <td>11</td>\n",
       "      <td>76</td>\n",
       "      <td>75</td>\n",
       "      <td>18</td>\n",
       "      <td>24</td>\n",
       "    </tr>\n",
       "  </tbody>\n",
       "</table>\n",
       "</div>"
      ]
     },
     "execution_count": 11,
     "metadata": {},
     "output_type": "execute_result"
    }
   ],
   "execution_count": 11
  },
  {
   "cell_type": "code",
   "metadata": {
    "ExecuteTime": {
     "end_time": "2025-04-20T11:39:37.461865Z",
     "start_time": "2025-04-20T11:39:37.445463Z"
    }
   },
   "source": [
    "#Make Dataset\n",
    "y = df['domain1_score']\n",
    "df.drop('domain1_score',inplace=True,axis=1)\n",
    "X=df"
   ],
   "outputs": [],
   "execution_count": 12
  },
  {
   "metadata": {},
   "cell_type": "markdown",
   "source": ""
  },
  {
   "cell_type": "code",
   "metadata": {
    "ExecuteTime": {
     "end_time": "2025-04-20T11:39:38.882252Z",
     "start_time": "2025-04-20T11:39:38.868978Z"
    }
   },
   "source": [
    "from sklearn.model_selection import train_test_split\n",
    "X_train, X_test, y_train, y_test = train_test_split(X, y, test_size=0.3, random_state=42)"
   ],
   "outputs": [],
   "execution_count": 13
  },
  {
   "cell_type": "code",
   "metadata": {
    "ExecuteTime": {
     "end_time": "2025-04-20T11:39:40.131412Z",
     "start_time": "2025-04-20T11:39:40.125984Z"
    }
   },
   "source": [
    "X_train.shape"
   ],
   "outputs": [
    {
     "data": {
      "text/plain": [
       "(9083, 3)"
      ]
     },
     "execution_count": 14,
     "metadata": {},
     "output_type": "execute_result"
    }
   ],
   "execution_count": 14
  },
  {
   "cell_type": "markdown",
   "metadata": {},
   "source": [
    " "
   ]
  },
  {
   "cell_type": "markdown",
   "metadata": {},
   "source": [
    "**PREPROCESSING**"
   ]
  },
  {
   "cell_type": "code",
   "metadata": {
    "ExecuteTime": {
     "end_time": "2025-04-20T11:39:42.277762Z",
     "start_time": "2025-04-20T11:39:42.273918Z"
    }
   },
   "source": [
    "train_e = X_train['essay'].tolist()\n",
    "test_e = X_test['essay'].tolist()"
   ],
   "outputs": [],
   "execution_count": 15
  },
  {
   "cell_type": "code",
   "metadata": {
    "ExecuteTime": {
     "end_time": "2025-04-20T11:42:31.808803Z",
     "start_time": "2025-04-20T11:39:43.325946Z"
    }
   },
   "source": [
    "train_sents=[]\n",
    "test_sents=[]\n",
    "\n",
    "stop_words = set(stopwords.words('english')) \n",
    "def sent2word(x):\n",
    "    x=re.sub(\"[^A-Za-z]\",\" \",x)\n",
    "    x.lower()\n",
    "    filtered_sentence = [] \n",
    "    words=x.split()\n",
    "    for w in words:\n",
    "        if w not in stop_words: \n",
    "            filtered_sentence.append(w)\n",
    "    return filtered_sentence\n",
    "\n",
    "def essay2word(essay):\n",
    "    essay = essay.strip()\n",
    "    tokenizer = nltk.data.load('tokenizers/punkt/english.pickle')\n",
    "    raw = tokenizer.tokenize(essay)\n",
    "    final_words=[]\n",
    "    for i in raw:\n",
    "        if(len(i)>0):\n",
    "            final_words.append(sent2word(i))\n",
    "    return final_words\n",
    "\n",
    "for i in train_e:\n",
    "    train_sents+=essay2word(i)\n",
    "\n",
    "for i in test_e:\n",
    "    test_sents+=essay2word(i)"
   ],
   "outputs": [],
   "execution_count": 16
  },
  {
   "cell_type": "code",
   "metadata": {
    "ExecuteTime": {
     "end_time": "2025-04-20T11:42:55.744870Z",
     "start_time": "2025-04-20T11:42:55.737378Z"
    }
   },
   "source": [
    "len(train_sents)"
   ],
   "outputs": [
    {
     "data": {
      "text/plain": [
       "116500"
      ]
     },
     "execution_count": 17,
     "metadata": {},
     "output_type": "execute_result"
    }
   ],
   "execution_count": 17
  },
  {
   "cell_type": "code",
   "metadata": {
    "ExecuteTime": {
     "end_time": "2025-04-20T11:42:56.544242Z",
     "start_time": "2025-04-20T11:42:56.539961Z"
    }
   },
   "source": [
    "train_sents[0]"
   ],
   "outputs": [
    {
     "data": {
      "text/plain": [
       "['It',\n",
       " 'first',\n",
       " 'day',\n",
       " 'high',\n",
       " 'school',\n",
       " 'gut',\n",
       " 'full',\n",
       " 'butterflies',\n",
       " 'make',\n",
       " 'want',\n",
       " 'run',\n",
       " 'bathrooms',\n",
       " 'hide',\n",
       " 'world']"
      ]
     },
     "execution_count": 18,
     "metadata": {},
     "output_type": "execute_result"
    }
   ],
   "execution_count": 18
  },
  {
   "cell_type": "markdown",
   "metadata": {},
   "source": [
    " "
   ]
  },
  {
   "cell_type": "markdown",
   "metadata": {},
   "source": [
    "**Preparing WORD2VEC and LSTM Model**"
   ]
  },
  {
   "cell_type": "code",
   "metadata": {
    "ExecuteTime": {
     "end_time": "2025-04-20T11:42:59.596040Z",
     "start_time": "2025-04-20T11:42:59.588497Z"
    }
   },
   "source": [
    "def get_model():\n",
    "    model = Sequential()\n",
    "    model.add(LSTM(300, dropout=0.4, recurrent_dropout=0.4, input_shape=[1, 300], return_sequences=True))\n",
    "    model.add(LSTM(64, recurrent_dropout=0.4))\n",
    "    model.add(Dropout(0.5))\n",
    "    model.add(Dense(1, activation='relu'))\n",
    "    model.compile(loss='mean_squared_error', optimizer='rmsprop', metrics=['mae'])\n",
    "    model.summary()\n",
    "    return model"
   ],
   "outputs": [],
   "execution_count": 19
  },
  {
   "cell_type": "code",
   "metadata": {
    "ExecuteTime": {
     "end_time": "2025-04-20T12:16:39.010941Z",
     "start_time": "2025-04-20T12:16:34.667816Z"
    }
   },
   "source": [
    "from gensim.models import Word2Vec\n",
    "import gensim\n",
    "\n",
    "num_features = 300 \n",
    "min_word_count = 40\n",
    "num_workers = 4\n",
    "context = 10\n",
    "downsampling = 1e-3\n",
    "\n",
    "model = Word2Vec(train_sents, \n",
    "                 vector_size=num_features,  # modern gensim usage\n",
    "                 workers=num_workers, \n",
    "                 min_count=min_word_count, \n",
    "                 window=context, \n",
    "                 sample=downsampling)\n",
    "\n",
    "model.wv.save_word2vec_format('word2vecmodel.bin', binary=True)\n",
    "\n"
   ],
   "outputs": [],
   "execution_count": 22
  },
  {
   "cell_type": "code",
   "metadata": {
    "scrolled": true,
    "ExecuteTime": {
     "end_time": "2025-04-20T12:18:59.282235Z",
     "start_time": "2025-04-20T12:18:59.275889Z"
    }
   },
   "source": [
    "def makeVec(words, model, num_features):\n",
    "    vec = np.zeros((num_features,), dtype=\"float32\")\n",
    "    noOfWords = 0.\n",
    "    index2word_set = set(model.wv.index_to_key)  # Updated for Gensim 4.x\n",
    "    for i in words:\n",
    "        if i in index2word_set:\n",
    "            noOfWords += 1\n",
    "            vec = np.add(vec, model.wv.get_vector(i))  # ✅ updated here\n",
    "    \n",
    "    # Avoid division by zero, return zero vector if no valid words were found\n",
    "    if noOfWords > 0:\n",
    "        vec = np.divide(vec, noOfWords)\n",
    "    else:\n",
    "        vec = np.zeros((num_features,), dtype=\"float32\")  # Handle no valid words\n",
    "\n",
    "    return vec\n"
   ],
   "outputs": [],
   "execution_count": 26
  },
  {
   "cell_type": "code",
   "metadata": {
    "ExecuteTime": {
     "end_time": "2025-04-20T12:19:00.821622Z",
     "start_time": "2025-04-20T12:19:00.816158Z"
    }
   },
   "source": [
    "training_vectors.shape"
   ],
   "outputs": [
    {
     "data": {
      "text/plain": [
       "(9083, 300)"
      ]
     },
     "execution_count": 27,
     "metadata": {},
     "output_type": "execute_result"
    }
   ],
   "execution_count": 27
  },
  {
   "cell_type": "code",
   "metadata": {
    "ExecuteTime": {
     "end_time": "2025-04-20T12:19:02.558513Z",
     "start_time": "2025-04-20T12:19:02.318249Z"
    }
   },
   "source": [
    "training_vectors = np.array(training_vectors)\n",
    "testing_vectors = np.array(testing_vectors)\n",
    "\n",
    "# Reshaping train and test vectors to 3 dimensions. (1 represnts one timestep)\n",
    "training_vectors = np.reshape(training_vectors, (training_vectors.shape[0], 1, training_vectors.shape[1]))\n",
    "testing_vectors = np.reshape(testing_vectors, (testing_vectors.shape[0], 1, testing_vectors.shape[1]))\n",
    "lstm_model = get_model()"
   ],
   "outputs": [
    {
     "name": "stderr",
     "output_type": "stream",
     "text": [
      "/opt/anaconda3/lib/python3.12/site-packages/keras/src/layers/rnn/rnn.py:200: UserWarning: Do not pass an `input_shape`/`input_dim` argument to a layer. When using Sequential models, prefer using an `Input(shape)` object as the first layer in the model instead.\n",
      "  super().__init__(**kwargs)\n"
     ]
    },
    {
     "data": {
      "text/plain": [
       "\u001B[1mModel: \"sequential\"\u001B[0m\n"
      ],
      "text/html": [
       "<pre style=\"white-space:pre;overflow-x:auto;line-height:normal;font-family:Menlo,'DejaVu Sans Mono',consolas,'Courier New',monospace\"><span style=\"font-weight: bold\">Model: \"sequential\"</span>\n",
       "</pre>\n"
      ]
     },
     "metadata": {},
     "output_type": "display_data"
    },
    {
     "data": {
      "text/plain": [
       "┏━━━━━━━━━━━━━━━━━━━━━━━━━━━━━━━━━┳━━━━━━━━━━━━━━━━━━━━━━━━┳━━━━━━━━━━━━━━━┓\n",
       "┃\u001B[1m \u001B[0m\u001B[1mLayer (type)                   \u001B[0m\u001B[1m \u001B[0m┃\u001B[1m \u001B[0m\u001B[1mOutput Shape          \u001B[0m\u001B[1m \u001B[0m┃\u001B[1m \u001B[0m\u001B[1m      Param #\u001B[0m\u001B[1m \u001B[0m┃\n",
       "┡━━━━━━━━━━━━━━━━━━━━━━━━━━━━━━━━━╇━━━━━━━━━━━━━━━━━━━━━━━━╇━━━━━━━━━━━━━━━┩\n",
       "│ lstm (\u001B[38;5;33mLSTM\u001B[0m)                     │ (\u001B[38;5;45mNone\u001B[0m, \u001B[38;5;34m1\u001B[0m, \u001B[38;5;34m300\u001B[0m)         │       \u001B[38;5;34m721,200\u001B[0m │\n",
       "├─────────────────────────────────┼────────────────────────┼───────────────┤\n",
       "│ lstm_1 (\u001B[38;5;33mLSTM\u001B[0m)                   │ (\u001B[38;5;45mNone\u001B[0m, \u001B[38;5;34m64\u001B[0m)             │        \u001B[38;5;34m93,440\u001B[0m │\n",
       "├─────────────────────────────────┼────────────────────────┼───────────────┤\n",
       "│ dropout (\u001B[38;5;33mDropout\u001B[0m)               │ (\u001B[38;5;45mNone\u001B[0m, \u001B[38;5;34m64\u001B[0m)             │             \u001B[38;5;34m0\u001B[0m │\n",
       "├─────────────────────────────────┼────────────────────────┼───────────────┤\n",
       "│ dense (\u001B[38;5;33mDense\u001B[0m)                   │ (\u001B[38;5;45mNone\u001B[0m, \u001B[38;5;34m1\u001B[0m)              │            \u001B[38;5;34m65\u001B[0m │\n",
       "└─────────────────────────────────┴────────────────────────┴───────────────┘\n"
      ],
      "text/html": [
       "<pre style=\"white-space:pre;overflow-x:auto;line-height:normal;font-family:Menlo,'DejaVu Sans Mono',consolas,'Courier New',monospace\">┏━━━━━━━━━━━━━━━━━━━━━━━━━━━━━━━━━┳━━━━━━━━━━━━━━━━━━━━━━━━┳━━━━━━━━━━━━━━━┓\n",
       "┃<span style=\"font-weight: bold\"> Layer (type)                    </span>┃<span style=\"font-weight: bold\"> Output Shape           </span>┃<span style=\"font-weight: bold\">       Param # </span>┃\n",
       "┡━━━━━━━━━━━━━━━━━━━━━━━━━━━━━━━━━╇━━━━━━━━━━━━━━━━━━━━━━━━╇━━━━━━━━━━━━━━━┩\n",
       "│ lstm (<span style=\"color: #0087ff; text-decoration-color: #0087ff\">LSTM</span>)                     │ (<span style=\"color: #00d7ff; text-decoration-color: #00d7ff\">None</span>, <span style=\"color: #00af00; text-decoration-color: #00af00\">1</span>, <span style=\"color: #00af00; text-decoration-color: #00af00\">300</span>)         │       <span style=\"color: #00af00; text-decoration-color: #00af00\">721,200</span> │\n",
       "├─────────────────────────────────┼────────────────────────┼───────────────┤\n",
       "│ lstm_1 (<span style=\"color: #0087ff; text-decoration-color: #0087ff\">LSTM</span>)                   │ (<span style=\"color: #00d7ff; text-decoration-color: #00d7ff\">None</span>, <span style=\"color: #00af00; text-decoration-color: #00af00\">64</span>)             │        <span style=\"color: #00af00; text-decoration-color: #00af00\">93,440</span> │\n",
       "├─────────────────────────────────┼────────────────────────┼───────────────┤\n",
       "│ dropout (<span style=\"color: #0087ff; text-decoration-color: #0087ff\">Dropout</span>)               │ (<span style=\"color: #00d7ff; text-decoration-color: #00d7ff\">None</span>, <span style=\"color: #00af00; text-decoration-color: #00af00\">64</span>)             │             <span style=\"color: #00af00; text-decoration-color: #00af00\">0</span> │\n",
       "├─────────────────────────────────┼────────────────────────┼───────────────┤\n",
       "│ dense (<span style=\"color: #0087ff; text-decoration-color: #0087ff\">Dense</span>)                   │ (<span style=\"color: #00d7ff; text-decoration-color: #00d7ff\">None</span>, <span style=\"color: #00af00; text-decoration-color: #00af00\">1</span>)              │            <span style=\"color: #00af00; text-decoration-color: #00af00\">65</span> │\n",
       "└─────────────────────────────────┴────────────────────────┴───────────────┘\n",
       "</pre>\n"
      ]
     },
     "metadata": {},
     "output_type": "display_data"
    },
    {
     "data": {
      "text/plain": [
       "\u001B[1m Total params: \u001B[0m\u001B[38;5;34m814,705\u001B[0m (3.11 MB)\n"
      ],
      "text/html": [
       "<pre style=\"white-space:pre;overflow-x:auto;line-height:normal;font-family:Menlo,'DejaVu Sans Mono',consolas,'Courier New',monospace\"><span style=\"font-weight: bold\"> Total params: </span><span style=\"color: #00af00; text-decoration-color: #00af00\">814,705</span> (3.11 MB)\n",
       "</pre>\n"
      ]
     },
     "metadata": {},
     "output_type": "display_data"
    },
    {
     "data": {
      "text/plain": [
       "\u001B[1m Trainable params: \u001B[0m\u001B[38;5;34m814,705\u001B[0m (3.11 MB)\n"
      ],
      "text/html": [
       "<pre style=\"white-space:pre;overflow-x:auto;line-height:normal;font-family:Menlo,'DejaVu Sans Mono',consolas,'Courier New',monospace\"><span style=\"font-weight: bold\"> Trainable params: </span><span style=\"color: #00af00; text-decoration-color: #00af00\">814,705</span> (3.11 MB)\n",
       "</pre>\n"
      ]
     },
     "metadata": {},
     "output_type": "display_data"
    },
    {
     "data": {
      "text/plain": [
       "\u001B[1m Non-trainable params: \u001B[0m\u001B[38;5;34m0\u001B[0m (0.00 B)\n"
      ],
      "text/html": [
       "<pre style=\"white-space:pre;overflow-x:auto;line-height:normal;font-family:Menlo,'DejaVu Sans Mono',consolas,'Courier New',monospace\"><span style=\"font-weight: bold\"> Non-trainable params: </span><span style=\"color: #00af00; text-decoration-color: #00af00\">0</span> (0.00 B)\n",
       "</pre>\n"
      ]
     },
     "metadata": {},
     "output_type": "display_data"
    }
   ],
   "execution_count": 28
  },
  {
   "cell_type": "code",
   "metadata": {
    "ExecuteTime": {
     "end_time": "2025-04-20T12:19:21.801834Z",
     "start_time": "2025-04-20T12:19:21.787802Z"
    }
   },
   "source": [
    "training_vectors.shape"
   ],
   "outputs": [
    {
     "data": {
      "text/plain": [
       "(9083, 1, 300)"
      ]
     },
     "execution_count": 29,
     "metadata": {},
     "output_type": "execute_result"
    }
   ],
   "execution_count": 29
  },
  {
   "cell_type": "markdown",
   "metadata": {},
   "source": [
    "\n",
    "**TRAINING AND PREDICTION**\n",
    "\n",
    "\n",
    "\n",
    "\n",
    "\n"
   ]
  },
  {
   "cell_type": "markdown",
   "metadata": {},
   "source": [
    "  "
   ]
  },
  {
   "cell_type": "code",
   "metadata": {
    "scrolled": false,
    "ExecuteTime": {
     "end_time": "2025-04-20T12:25:52.505869Z",
     "start_time": "2025-04-20T12:19:24.790554Z"
    }
   },
   "source": [
    "lstm_model.fit(training_vectors, y_train, batch_size=64, epochs=150)"
   ],
   "outputs": [
    {
     "name": "stdout",
     "output_type": "stream",
     "text": [
      "Epoch 1/150\n",
      "\u001B[1m142/142\u001B[0m \u001B[32m━━━━━━━━━━━━━━━━━━━━\u001B[0m\u001B[37m\u001B[0m \u001B[1m4s\u001B[0m 11ms/step - loss: 12.6394 - mae: 2.8072\n",
      "Epoch 2/150\n",
      "\u001B[1m142/142\u001B[0m \u001B[32m━━━━━━━━━━━━━━━━━━━━\u001B[0m\u001B[37m\u001B[0m \u001B[1m2s\u001B[0m 14ms/step - loss: 5.1904 - mae: 1.8012\n",
      "Epoch 3/150\n",
      "\u001B[1m142/142\u001B[0m \u001B[32m━━━━━━━━━━━━━━━━━━━━\u001B[0m\u001B[37m\u001B[0m \u001B[1m2s\u001B[0m 15ms/step - loss: 5.0471 - mae: 1.7716\n",
      "Epoch 4/150\n",
      "\u001B[1m142/142\u001B[0m \u001B[32m━━━━━━━━━━━━━━━━━━━━\u001B[0m\u001B[37m\u001B[0m \u001B[1m2s\u001B[0m 15ms/step - loss: 4.7019 - mae: 1.7025\n",
      "Epoch 5/150\n",
      "\u001B[1m142/142\u001B[0m \u001B[32m━━━━━━━━━━━━━━━━━━━━\u001B[0m\u001B[37m\u001B[0m \u001B[1m2s\u001B[0m 16ms/step - loss: 4.5792 - mae: 1.6836\n",
      "Epoch 6/150\n",
      "\u001B[1m142/142\u001B[0m \u001B[32m━━━━━━━━━━━━━━━━━━━━\u001B[0m\u001B[37m\u001B[0m \u001B[1m2s\u001B[0m 17ms/step - loss: 4.4861 - mae: 1.6636\n",
      "Epoch 7/150\n",
      "\u001B[1m142/142\u001B[0m \u001B[32m━━━━━━━━━━━━━━━━━━━━\u001B[0m\u001B[37m\u001B[0m \u001B[1m2s\u001B[0m 16ms/step - loss: 4.2830 - mae: 1.6141\n",
      "Epoch 8/150\n",
      "\u001B[1m142/142\u001B[0m \u001B[32m━━━━━━━━━━━━━━━━━━━━\u001B[0m\u001B[37m\u001B[0m \u001B[1m2s\u001B[0m 17ms/step - loss: 4.2508 - mae: 1.6231\n",
      "Epoch 9/150\n",
      "\u001B[1m142/142\u001B[0m \u001B[32m━━━━━━━━━━━━━━━━━━━━\u001B[0m\u001B[37m\u001B[0m \u001B[1m3s\u001B[0m 21ms/step - loss: 4.2495 - mae: 1.6120\n",
      "Epoch 10/150\n",
      "\u001B[1m142/142\u001B[0m \u001B[32m━━━━━━━━━━━━━━━━━━━━\u001B[0m\u001B[37m\u001B[0m \u001B[1m2s\u001B[0m 16ms/step - loss: 4.2494 - mae: 1.6017\n",
      "Epoch 11/150\n",
      "\u001B[1m142/142\u001B[0m \u001B[32m━━━━━━━━━━━━━━━━━━━━\u001B[0m\u001B[37m\u001B[0m \u001B[1m2s\u001B[0m 16ms/step - loss: 4.1394 - mae: 1.5896\n",
      "Epoch 12/150\n",
      "\u001B[1m142/142\u001B[0m \u001B[32m━━━━━━━━━━━━━━━━━━━━\u001B[0m\u001B[37m\u001B[0m \u001B[1m2s\u001B[0m 16ms/step - loss: 4.1123 - mae: 1.5851\n",
      "Epoch 13/150\n",
      "\u001B[1m142/142\u001B[0m \u001B[32m━━━━━━━━━━━━━━━━━━━━\u001B[0m\u001B[37m\u001B[0m \u001B[1m2s\u001B[0m 17ms/step - loss: 3.9600 - mae: 1.5441\n",
      "Epoch 14/150\n",
      "\u001B[1m142/142\u001B[0m \u001B[32m━━━━━━━━━━━━━━━━━━━━\u001B[0m\u001B[37m\u001B[0m \u001B[1m2s\u001B[0m 16ms/step - loss: 3.9264 - mae: 1.5501\n",
      "Epoch 15/150\n",
      "\u001B[1m142/142\u001B[0m \u001B[32m━━━━━━━━━━━━━━━━━━━━\u001B[0m\u001B[37m\u001B[0m \u001B[1m2s\u001B[0m 16ms/step - loss: 3.7147 - mae: 1.5153\n",
      "Epoch 16/150\n",
      "\u001B[1m142/142\u001B[0m \u001B[32m━━━━━━━━━━━━━━━━━━━━\u001B[0m\u001B[37m\u001B[0m \u001B[1m2s\u001B[0m 16ms/step - loss: 3.8806 - mae: 1.5386\n",
      "Epoch 17/150\n",
      "\u001B[1m142/142\u001B[0m \u001B[32m━━━━━━━━━━━━━━━━━━━━\u001B[0m\u001B[37m\u001B[0m \u001B[1m2s\u001B[0m 16ms/step - loss: 3.9479 - mae: 1.5500\n",
      "Epoch 18/150\n",
      "\u001B[1m142/142\u001B[0m \u001B[32m━━━━━━━━━━━━━━━━━━━━\u001B[0m\u001B[37m\u001B[0m \u001B[1m3s\u001B[0m 20ms/step - loss: 3.8246 - mae: 1.5351\n",
      "Epoch 19/150\n",
      "\u001B[1m142/142\u001B[0m \u001B[32m━━━━━━━━━━━━━━━━━━━━\u001B[0m\u001B[37m\u001B[0m \u001B[1m2s\u001B[0m 17ms/step - loss: 3.7689 - mae: 1.5167\n",
      "Epoch 20/150\n",
      "\u001B[1m142/142\u001B[0m \u001B[32m━━━━━━━━━━━━━━━━━━━━\u001B[0m\u001B[37m\u001B[0m \u001B[1m2s\u001B[0m 17ms/step - loss: 3.7500 - mae: 1.5159\n",
      "Epoch 21/150\n",
      "\u001B[1m142/142\u001B[0m \u001B[32m━━━━━━━━━━━━━━━━━━━━\u001B[0m\u001B[37m\u001B[0m \u001B[1m2s\u001B[0m 17ms/step - loss: 3.7307 - mae: 1.5077\n",
      "Epoch 22/150\n",
      "\u001B[1m142/142\u001B[0m \u001B[32m━━━━━━━━━━━━━━━━━━━━\u001B[0m\u001B[37m\u001B[0m \u001B[1m2s\u001B[0m 17ms/step - loss: 3.7270 - mae: 1.5006\n",
      "Epoch 23/150\n",
      "\u001B[1m142/142\u001B[0m \u001B[32m━━━━━━━━━━━━━━━━━━━━\u001B[0m\u001B[37m\u001B[0m \u001B[1m2s\u001B[0m 16ms/step - loss: 3.5932 - mae: 1.4709\n",
      "Epoch 24/150\n",
      "\u001B[1m142/142\u001B[0m \u001B[32m━━━━━━━━━━━━━━━━━━━━\u001B[0m\u001B[37m\u001B[0m \u001B[1m2s\u001B[0m 16ms/step - loss: 3.6884 - mae: 1.4997\n",
      "Epoch 25/150\n",
      "\u001B[1m142/142\u001B[0m \u001B[32m━━━━━━━━━━━━━━━━━━━━\u001B[0m\u001B[37m\u001B[0m \u001B[1m2s\u001B[0m 16ms/step - loss: 3.5711 - mae: 1.4796\n",
      "Epoch 26/150\n",
      "\u001B[1m142/142\u001B[0m \u001B[32m━━━━━━━━━━━━━━━━━━━━\u001B[0m\u001B[37m\u001B[0m \u001B[1m2s\u001B[0m 16ms/step - loss: 3.4115 - mae: 1.4411\n",
      "Epoch 27/150\n",
      "\u001B[1m142/142\u001B[0m \u001B[32m━━━━━━━━━━━━━━━━━━━━\u001B[0m\u001B[37m\u001B[0m \u001B[1m2s\u001B[0m 17ms/step - loss: 3.5111 - mae: 1.4614\n",
      "Epoch 28/150\n",
      "\u001B[1m142/142\u001B[0m \u001B[32m━━━━━━━━━━━━━━━━━━━━\u001B[0m\u001B[37m\u001B[0m \u001B[1m3s\u001B[0m 19ms/step - loss: 3.4993 - mae: 1.4642\n",
      "Epoch 29/150\n",
      "\u001B[1m142/142\u001B[0m \u001B[32m━━━━━━━━━━━━━━━━━━━━\u001B[0m\u001B[37m\u001B[0m \u001B[1m2s\u001B[0m 17ms/step - loss: 3.5004 - mae: 1.4620\n",
      "Epoch 30/150\n",
      "\u001B[1m142/142\u001B[0m \u001B[32m━━━━━━━━━━━━━━━━━━━━\u001B[0m\u001B[37m\u001B[0m \u001B[1m2s\u001B[0m 17ms/step - loss: 3.3638 - mae: 1.4206\n",
      "Epoch 31/150\n",
      "\u001B[1m142/142\u001B[0m \u001B[32m━━━━━━━━━━━━━━━━━━━━\u001B[0m\u001B[37m\u001B[0m \u001B[1m2s\u001B[0m 17ms/step - loss: 3.5273 - mae: 1.4593\n",
      "Epoch 32/150\n",
      "\u001B[1m142/142\u001B[0m \u001B[32m━━━━━━━━━━━━━━━━━━━━\u001B[0m\u001B[37m\u001B[0m \u001B[1m2s\u001B[0m 17ms/step - loss: 3.3438 - mae: 1.4241\n",
      "Epoch 33/150\n",
      "\u001B[1m142/142\u001B[0m \u001B[32m━━━━━━━━━━━━━━━━━━━━\u001B[0m\u001B[37m\u001B[0m \u001B[1m2s\u001B[0m 17ms/step - loss: 3.4363 - mae: 1.4463\n",
      "Epoch 34/150\n",
      "\u001B[1m142/142\u001B[0m \u001B[32m━━━━━━━━━━━━━━━━━━━━\u001B[0m\u001B[37m\u001B[0m \u001B[1m2s\u001B[0m 16ms/step - loss: 3.3918 - mae: 1.4204\n",
      "Epoch 35/150\n",
      "\u001B[1m142/142\u001B[0m \u001B[32m━━━━━━━━━━━━━━━━━━━━\u001B[0m\u001B[37m\u001B[0m \u001B[1m2s\u001B[0m 16ms/step - loss: 3.3258 - mae: 1.4219\n",
      "Epoch 36/150\n",
      "\u001B[1m142/142\u001B[0m \u001B[32m━━━━━━━━━━━━━━━━━━━━\u001B[0m\u001B[37m\u001B[0m \u001B[1m2s\u001B[0m 16ms/step - loss: 3.3191 - mae: 1.4257\n",
      "Epoch 37/150\n",
      "\u001B[1m142/142\u001B[0m \u001B[32m━━━━━━━━━━━━━━━━━━━━\u001B[0m\u001B[37m\u001B[0m \u001B[1m3s\u001B[0m 20ms/step - loss: 3.2865 - mae: 1.4163\n",
      "Epoch 38/150\n",
      "\u001B[1m142/142\u001B[0m \u001B[32m━━━━━━━━━━━━━━━━━━━━\u001B[0m\u001B[37m\u001B[0m \u001B[1m2s\u001B[0m 17ms/step - loss: 3.2605 - mae: 1.4093\n",
      "Epoch 39/150\n",
      "\u001B[1m142/142\u001B[0m \u001B[32m━━━━━━━━━━━━━━━━━━━━\u001B[0m\u001B[37m\u001B[0m \u001B[1m2s\u001B[0m 16ms/step - loss: 3.2998 - mae: 1.4130\n",
      "Epoch 40/150\n",
      "\u001B[1m142/142\u001B[0m \u001B[32m━━━━━━━━━━━━━━━━━━━━\u001B[0m\u001B[37m\u001B[0m \u001B[1m2s\u001B[0m 16ms/step - loss: 3.2975 - mae: 1.4117\n",
      "Epoch 41/150\n",
      "\u001B[1m142/142\u001B[0m \u001B[32m━━━━━━━━━━━━━━━━━━━━\u001B[0m\u001B[37m\u001B[0m \u001B[1m2s\u001B[0m 17ms/step - loss: 3.1809 - mae: 1.3931\n",
      "Epoch 42/150\n",
      "\u001B[1m142/142\u001B[0m \u001B[32m━━━━━━━━━━━━━━━━━━━━\u001B[0m\u001B[37m\u001B[0m \u001B[1m2s\u001B[0m 17ms/step - loss: 3.2342 - mae: 1.3989\n",
      "Epoch 43/150\n",
      "\u001B[1m142/142\u001B[0m \u001B[32m━━━━━━━━━━━━━━━━━━━━\u001B[0m\u001B[37m\u001B[0m \u001B[1m2s\u001B[0m 16ms/step - loss: 3.1789 - mae: 1.3835\n",
      "Epoch 44/150\n",
      "\u001B[1m142/142\u001B[0m \u001B[32m━━━━━━━━━━━━━━━━━━━━\u001B[0m\u001B[37m\u001B[0m \u001B[1m2s\u001B[0m 16ms/step - loss: 3.1602 - mae: 1.3786\n",
      "Epoch 45/150\n",
      "\u001B[1m142/142\u001B[0m \u001B[32m━━━━━━━━━━━━━━━━━━━━\u001B[0m\u001B[37m\u001B[0m \u001B[1m2s\u001B[0m 16ms/step - loss: 3.1628 - mae: 1.3798\n",
      "Epoch 46/150\n",
      "\u001B[1m142/142\u001B[0m \u001B[32m━━━━━━━━━━━━━━━━━━━━\u001B[0m\u001B[37m\u001B[0m \u001B[1m3s\u001B[0m 19ms/step - loss: 3.0252 - mae: 1.3526\n",
      "Epoch 47/150\n",
      "\u001B[1m142/142\u001B[0m \u001B[32m━━━━━━━━━━━━━━━━━━━━\u001B[0m\u001B[37m\u001B[0m \u001B[1m2s\u001B[0m 17ms/step - loss: 2.9936 - mae: 1.3383\n",
      "Epoch 48/150\n",
      "\u001B[1m142/142\u001B[0m \u001B[32m━━━━━━━━━━━━━━━━━━━━\u001B[0m\u001B[37m\u001B[0m \u001B[1m2s\u001B[0m 16ms/step - loss: 3.1347 - mae: 1.3749\n",
      "Epoch 49/150\n",
      "\u001B[1m142/142\u001B[0m \u001B[32m━━━━━━━━━━━━━━━━━━━━\u001B[0m\u001B[37m\u001B[0m \u001B[1m2s\u001B[0m 16ms/step - loss: 3.0531 - mae: 1.3570\n",
      "Epoch 50/150\n",
      "\u001B[1m142/142\u001B[0m \u001B[32m━━━━━━━━━━━━━━━━━━━━\u001B[0m\u001B[37m\u001B[0m \u001B[1m2s\u001B[0m 16ms/step - loss: 3.0187 - mae: 1.3490\n",
      "Epoch 51/150\n",
      "\u001B[1m142/142\u001B[0m \u001B[32m━━━━━━━━━━━━━━━━━━━━\u001B[0m\u001B[37m\u001B[0m \u001B[1m2s\u001B[0m 16ms/step - loss: 3.0708 - mae: 1.3543\n",
      "Epoch 52/150\n",
      "\u001B[1m142/142\u001B[0m \u001B[32m━━━━━━━━━━━━━━━━━━━━\u001B[0m\u001B[37m\u001B[0m \u001B[1m2s\u001B[0m 16ms/step - loss: 3.0387 - mae: 1.3525\n",
      "Epoch 53/150\n",
      "\u001B[1m142/142\u001B[0m \u001B[32m━━━━━━━━━━━━━━━━━━━━\u001B[0m\u001B[37m\u001B[0m \u001B[1m2s\u001B[0m 16ms/step - loss: 2.9950 - mae: 1.3389\n",
      "Epoch 54/150\n",
      "\u001B[1m142/142\u001B[0m \u001B[32m━━━━━━━━━━━━━━━━━━━━\u001B[0m\u001B[37m\u001B[0m \u001B[1m2s\u001B[0m 16ms/step - loss: 2.9103 - mae: 1.3291\n",
      "Epoch 55/150\n",
      "\u001B[1m142/142\u001B[0m \u001B[32m━━━━━━━━━━━━━━━━━━━━\u001B[0m\u001B[37m\u001B[0m \u001B[1m2s\u001B[0m 16ms/step - loss: 2.9825 - mae: 1.3442\n",
      "Epoch 56/150\n",
      "\u001B[1m142/142\u001B[0m \u001B[32m━━━━━━━━━━━━━━━━━━━━\u001B[0m\u001B[37m\u001B[0m \u001B[1m3s\u001B[0m 19ms/step - loss: 3.0283 - mae: 1.3562\n",
      "Epoch 57/150\n",
      "\u001B[1m142/142\u001B[0m \u001B[32m━━━━━━━━━━━━━━━━━━━━\u001B[0m\u001B[37m\u001B[0m \u001B[1m2s\u001B[0m 16ms/step - loss: 2.9452 - mae: 1.3263\n",
      "Epoch 58/150\n",
      "\u001B[1m142/142\u001B[0m \u001B[32m━━━━━━━━━━━━━━━━━━━━\u001B[0m\u001B[37m\u001B[0m \u001B[1m2s\u001B[0m 17ms/step - loss: 2.8409 - mae: 1.3098\n",
      "Epoch 59/150\n",
      "\u001B[1m142/142\u001B[0m \u001B[32m━━━━━━━━━━━━━━━━━━━━\u001B[0m\u001B[37m\u001B[0m \u001B[1m3s\u001B[0m 18ms/step - loss: 2.9362 - mae: 1.3200\n",
      "Epoch 60/150\n",
      "\u001B[1m142/142\u001B[0m \u001B[32m━━━━━━━━━━━━━━━━━━━━\u001B[0m\u001B[37m\u001B[0m \u001B[1m2s\u001B[0m 17ms/step - loss: 2.8565 - mae: 1.3144\n",
      "Epoch 61/150\n",
      "\u001B[1m142/142\u001B[0m \u001B[32m━━━━━━━━━━━━━━━━━━━━\u001B[0m\u001B[37m\u001B[0m \u001B[1m2s\u001B[0m 16ms/step - loss: 2.9571 - mae: 1.3346\n",
      "Epoch 62/150\n",
      "\u001B[1m142/142\u001B[0m \u001B[32m━━━━━━━━━━━━━━━━━━━━\u001B[0m\u001B[37m\u001B[0m \u001B[1m2s\u001B[0m 16ms/step - loss: 2.8968 - mae: 1.3194\n",
      "Epoch 63/150\n",
      "\u001B[1m142/142\u001B[0m \u001B[32m━━━━━━━━━━━━━━━━━━━━\u001B[0m\u001B[37m\u001B[0m \u001B[1m2s\u001B[0m 16ms/step - loss: 2.9192 - mae: 1.3252\n",
      "Epoch 64/150\n",
      "\u001B[1m142/142\u001B[0m \u001B[32m━━━━━━━━━━━━━━━━━━━━\u001B[0m\u001B[37m\u001B[0m \u001B[1m2s\u001B[0m 17ms/step - loss: 2.8054 - mae: 1.3017\n",
      "Epoch 65/150\n",
      "\u001B[1m142/142\u001B[0m \u001B[32m━━━━━━━━━━━━━━━━━━━━\u001B[0m\u001B[37m\u001B[0m \u001B[1m3s\u001B[0m 19ms/step - loss: 2.8927 - mae: 1.3161\n",
      "Epoch 66/150\n",
      "\u001B[1m142/142\u001B[0m \u001B[32m━━━━━━━━━━━━━━━━━━━━\u001B[0m\u001B[37m\u001B[0m \u001B[1m2s\u001B[0m 16ms/step - loss: 2.8199 - mae: 1.3038\n",
      "Epoch 67/150\n",
      "\u001B[1m142/142\u001B[0m \u001B[32m━━━━━━━━━━━━━━━━━━━━\u001B[0m\u001B[37m\u001B[0m \u001B[1m2s\u001B[0m 16ms/step - loss: 2.7629 - mae: 1.2844\n",
      "Epoch 68/150\n",
      "\u001B[1m142/142\u001B[0m \u001B[32m━━━━━━━━━━━━━━━━━━━━\u001B[0m\u001B[37m\u001B[0m \u001B[1m2s\u001B[0m 16ms/step - loss: 2.7169 - mae: 1.2812\n",
      "Epoch 69/150\n",
      "\u001B[1m142/142\u001B[0m \u001B[32m━━━━━━━━━━━━━━━━━━━━\u001B[0m\u001B[37m\u001B[0m \u001B[1m2s\u001B[0m 16ms/step - loss: 2.8345 - mae: 1.3021\n",
      "Epoch 70/150\n",
      "\u001B[1m142/142\u001B[0m \u001B[32m━━━━━━━━━━━━━━━━━━━━\u001B[0m\u001B[37m\u001B[0m \u001B[1m2s\u001B[0m 17ms/step - loss: 2.7708 - mae: 1.2917\n",
      "Epoch 71/150\n",
      "\u001B[1m142/142\u001B[0m \u001B[32m━━━━━━━━━━━━━━━━━━━━\u001B[0m\u001B[37m\u001B[0m \u001B[1m2s\u001B[0m 16ms/step - loss: 2.6985 - mae: 1.2681\n",
      "Epoch 72/150\n",
      "\u001B[1m142/142\u001B[0m \u001B[32m━━━━━━━━━━━━━━━━━━━━\u001B[0m\u001B[37m\u001B[0m \u001B[1m2s\u001B[0m 16ms/step - loss: 2.7129 - mae: 1.2781\n",
      "Epoch 73/150\n",
      "\u001B[1m142/142\u001B[0m \u001B[32m━━━━━━━━━━━━━━━━━━━━\u001B[0m\u001B[37m\u001B[0m \u001B[1m2s\u001B[0m 16ms/step - loss: 2.6779 - mae: 1.2625\n",
      "Epoch 74/150\n",
      "\u001B[1m142/142\u001B[0m \u001B[32m━━━━━━━━━━━━━━━━━━━━\u001B[0m\u001B[37m\u001B[0m \u001B[1m3s\u001B[0m 20ms/step - loss: 2.6577 - mae: 1.2682\n",
      "Epoch 75/150\n",
      "\u001B[1m142/142\u001B[0m \u001B[32m━━━━━━━━━━━━━━━━━━━━\u001B[0m\u001B[37m\u001B[0m \u001B[1m3s\u001B[0m 20ms/step - loss: 2.7882 - mae: 1.3006\n",
      "Epoch 76/150\n",
      "\u001B[1m142/142\u001B[0m \u001B[32m━━━━━━━━━━━━━━━━━━━━\u001B[0m\u001B[37m\u001B[0m \u001B[1m3s\u001B[0m 20ms/step - loss: 2.7556 - mae: 1.2820\n",
      "Epoch 77/150\n",
      "\u001B[1m142/142\u001B[0m \u001B[32m━━━━━━━━━━━━━━━━━━━━\u001B[0m\u001B[37m\u001B[0m \u001B[1m3s\u001B[0m 20ms/step - loss: 2.6591 - mae: 1.2564\n",
      "Epoch 78/150\n",
      "\u001B[1m142/142\u001B[0m \u001B[32m━━━━━━━━━━━━━━━━━━━━\u001B[0m\u001B[37m\u001B[0m \u001B[1m3s\u001B[0m 19ms/step - loss: 2.7159 - mae: 1.2699\n",
      "Epoch 79/150\n",
      "\u001B[1m142/142\u001B[0m \u001B[32m━━━━━━━━━━━━━━━━━━━━\u001B[0m\u001B[37m\u001B[0m \u001B[1m3s\u001B[0m 21ms/step - loss: 2.7665 - mae: 1.2893\n",
      "Epoch 80/150\n",
      "\u001B[1m142/142\u001B[0m \u001B[32m━━━━━━━━━━━━━━━━━━━━\u001B[0m\u001B[37m\u001B[0m \u001B[1m3s\u001B[0m 20ms/step - loss: 2.7350 - mae: 1.2806\n",
      "Epoch 81/150\n",
      "\u001B[1m142/142\u001B[0m \u001B[32m━━━━━━━━━━━━━━━━━━━━\u001B[0m\u001B[37m\u001B[0m \u001B[1m3s\u001B[0m 19ms/step - loss: 2.7151 - mae: 1.2783\n",
      "Epoch 82/150\n",
      "\u001B[1m142/142\u001B[0m \u001B[32m━━━━━━━━━━━━━━━━━━━━\u001B[0m\u001B[37m\u001B[0m \u001B[1m3s\u001B[0m 19ms/step - loss: 2.6977 - mae: 1.2618\n",
      "Epoch 83/150\n",
      "\u001B[1m142/142\u001B[0m \u001B[32m━━━━━━━━━━━━━━━━━━━━\u001B[0m\u001B[37m\u001B[0m \u001B[1m3s\u001B[0m 18ms/step - loss: 2.7712 - mae: 1.2824\n",
      "Epoch 84/150\n",
      "\u001B[1m142/142\u001B[0m \u001B[32m━━━━━━━━━━━━━━━━━━━━\u001B[0m\u001B[37m\u001B[0m \u001B[1m3s\u001B[0m 19ms/step - loss: 2.7481 - mae: 1.2712\n",
      "Epoch 85/150\n",
      "\u001B[1m142/142\u001B[0m \u001B[32m━━━━━━━━━━━━━━━━━━━━\u001B[0m\u001B[37m\u001B[0m \u001B[1m3s\u001B[0m 22ms/step - loss: 2.6285 - mae: 1.2577\n",
      "Epoch 86/150\n",
      "\u001B[1m142/142\u001B[0m \u001B[32m━━━━━━━━━━━━━━━━━━━━\u001B[0m\u001B[37m\u001B[0m \u001B[1m3s\u001B[0m 19ms/step - loss: 2.5980 - mae: 1.2459\n",
      "Epoch 87/150\n",
      "\u001B[1m142/142\u001B[0m \u001B[32m━━━━━━━━━━━━━━━━━━━━\u001B[0m\u001B[37m\u001B[0m \u001B[1m3s\u001B[0m 19ms/step - loss: 2.6331 - mae: 1.2533\n",
      "Epoch 88/150\n",
      "\u001B[1m142/142\u001B[0m \u001B[32m━━━━━━━━━━━━━━━━━━━━\u001B[0m\u001B[37m\u001B[0m \u001B[1m3s\u001B[0m 19ms/step - loss: 2.5736 - mae: 1.2412\n",
      "Epoch 89/150\n",
      "\u001B[1m142/142\u001B[0m \u001B[32m━━━━━━━━━━━━━━━━━━━━\u001B[0m\u001B[37m\u001B[0m \u001B[1m3s\u001B[0m 19ms/step - loss: 2.6147 - mae: 1.2447\n",
      "Epoch 90/150\n",
      "\u001B[1m142/142\u001B[0m \u001B[32m━━━━━━━━━━━━━━━━━━━━\u001B[0m\u001B[37m\u001B[0m \u001B[1m3s\u001B[0m 20ms/step - loss: 2.5585 - mae: 1.2346\n",
      "Epoch 91/150\n",
      "\u001B[1m142/142\u001B[0m \u001B[32m━━━━━━━━━━━━━━━━━━━━\u001B[0m\u001B[37m\u001B[0m \u001B[1m3s\u001B[0m 20ms/step - loss: 2.4543 - mae: 1.2149\n",
      "Epoch 92/150\n",
      "\u001B[1m142/142\u001B[0m \u001B[32m━━━━━━━━━━━━━━━━━━━━\u001B[0m\u001B[37m\u001B[0m \u001B[1m3s\u001B[0m 20ms/step - loss: 2.5596 - mae: 1.2428\n",
      "Epoch 93/150\n",
      "\u001B[1m142/142\u001B[0m \u001B[32m━━━━━━━━━━━━━━━━━━━━\u001B[0m\u001B[37m\u001B[0m \u001B[1m3s\u001B[0m 20ms/step - loss: 2.6164 - mae: 1.2421\n",
      "Epoch 94/150\n",
      "\u001B[1m142/142\u001B[0m \u001B[32m━━━━━━━━━━━━━━━━━━━━\u001B[0m\u001B[37m\u001B[0m \u001B[1m3s\u001B[0m 20ms/step - loss: 2.5833 - mae: 1.2412\n",
      "Epoch 95/150\n",
      "\u001B[1m142/142\u001B[0m \u001B[32m━━━━━━━━━━━━━━━━━━━━\u001B[0m\u001B[37m\u001B[0m \u001B[1m3s\u001B[0m 19ms/step - loss: 2.5482 - mae: 1.2373\n",
      "Epoch 96/150\n",
      "\u001B[1m142/142\u001B[0m \u001B[32m━━━━━━━━━━━━━━━━━━━━\u001B[0m\u001B[37m\u001B[0m \u001B[1m3s\u001B[0m 21ms/step - loss: 2.6354 - mae: 1.2482\n",
      "Epoch 97/150\n",
      "\u001B[1m142/142\u001B[0m \u001B[32m━━━━━━━━━━━━━━━━━━━━\u001B[0m\u001B[37m\u001B[0m \u001B[1m3s\u001B[0m 18ms/step - loss: 2.5339 - mae: 1.2291\n",
      "Epoch 98/150\n",
      "\u001B[1m142/142\u001B[0m \u001B[32m━━━━━━━━━━━━━━━━━━━━\u001B[0m\u001B[37m\u001B[0m \u001B[1m3s\u001B[0m 18ms/step - loss: 2.5248 - mae: 1.2232\n",
      "Epoch 99/150\n",
      "\u001B[1m142/142\u001B[0m \u001B[32m━━━━━━━━━━━━━━━━━━━━\u001B[0m\u001B[37m\u001B[0m \u001B[1m3s\u001B[0m 18ms/step - loss: 2.5151 - mae: 1.2263\n",
      "Epoch 100/150\n",
      "\u001B[1m142/142\u001B[0m \u001B[32m━━━━━━━━━━━━━━━━━━━━\u001B[0m\u001B[37m\u001B[0m \u001B[1m3s\u001B[0m 18ms/step - loss: 2.5207 - mae: 1.2182\n",
      "Epoch 101/150\n",
      "\u001B[1m142/142\u001B[0m \u001B[32m━━━━━━━━━━━━━━━━━━━━\u001B[0m\u001B[37m\u001B[0m \u001B[1m3s\u001B[0m 19ms/step - loss: 2.4229 - mae: 1.1975\n",
      "Epoch 102/150\n",
      "\u001B[1m142/142\u001B[0m \u001B[32m━━━━━━━━━━━━━━━━━━━━\u001B[0m\u001B[37m\u001B[0m \u001B[1m3s\u001B[0m 20ms/step - loss: 2.4439 - mae: 1.2095\n",
      "Epoch 103/150\n",
      "\u001B[1m142/142\u001B[0m \u001B[32m━━━━━━━━━━━━━━━━━━━━\u001B[0m\u001B[37m\u001B[0m \u001B[1m3s\u001B[0m 18ms/step - loss: 2.4711 - mae: 1.2160\n",
      "Epoch 104/150\n",
      "\u001B[1m142/142\u001B[0m \u001B[32m━━━━━━━━━━━━━━━━━━━━\u001B[0m\u001B[37m\u001B[0m \u001B[1m3s\u001B[0m 18ms/step - loss: 2.4953 - mae: 1.2329\n",
      "Epoch 105/150\n",
      "\u001B[1m142/142\u001B[0m \u001B[32m━━━━━━━━━━━━━━━━━━━━\u001B[0m\u001B[37m\u001B[0m \u001B[1m3s\u001B[0m 18ms/step - loss: 2.5219 - mae: 1.2270\n",
      "Epoch 106/150\n",
      "\u001B[1m142/142\u001B[0m \u001B[32m━━━━━━━━━━━━━━━━━━━━\u001B[0m\u001B[37m\u001B[0m \u001B[1m3s\u001B[0m 19ms/step - loss: 2.4877 - mae: 1.2182\n",
      "Epoch 107/150\n",
      "\u001B[1m142/142\u001B[0m \u001B[32m━━━━━━━━━━━━━━━━━━━━\u001B[0m\u001B[37m\u001B[0m \u001B[1m3s\u001B[0m 21ms/step - loss: 2.4378 - mae: 1.2068\n",
      "Epoch 108/150\n",
      "\u001B[1m142/142\u001B[0m \u001B[32m━━━━━━━━━━━━━━━━━━━━\u001B[0m\u001B[37m\u001B[0m \u001B[1m3s\u001B[0m 18ms/step - loss: 2.3911 - mae: 1.1843\n",
      "Epoch 109/150\n",
      "\u001B[1m142/142\u001B[0m \u001B[32m━━━━━━━━━━━━━━━━━━━━\u001B[0m\u001B[37m\u001B[0m \u001B[1m3s\u001B[0m 18ms/step - loss: 2.4459 - mae: 1.1999\n",
      "Epoch 110/150\n",
      "\u001B[1m142/142\u001B[0m \u001B[32m━━━━━━━━━━━━━━━━━━━━\u001B[0m\u001B[37m\u001B[0m \u001B[1m3s\u001B[0m 19ms/step - loss: 2.3678 - mae: 1.1972\n",
      "Epoch 111/150\n",
      "\u001B[1m142/142\u001B[0m \u001B[32m━━━━━━━━━━━━━━━━━━━━\u001B[0m\u001B[37m\u001B[0m \u001B[1m3s\u001B[0m 19ms/step - loss: 2.4263 - mae: 1.1932\n",
      "Epoch 112/150\n",
      "\u001B[1m142/142\u001B[0m \u001B[32m━━━━━━━━━━━━━━━━━━━━\u001B[0m\u001B[37m\u001B[0m \u001B[1m3s\u001B[0m 20ms/step - loss: 2.4218 - mae: 1.1988\n",
      "Epoch 113/150\n",
      "\u001B[1m142/142\u001B[0m \u001B[32m━━━━━━━━━━━━━━━━━━━━\u001B[0m\u001B[37m\u001B[0m \u001B[1m3s\u001B[0m 20ms/step - loss: 2.4481 - mae: 1.2117\n",
      "Epoch 114/150\n",
      "\u001B[1m142/142\u001B[0m \u001B[32m━━━━━━━━━━━━━━━━━━━━\u001B[0m\u001B[37m\u001B[0m \u001B[1m3s\u001B[0m 20ms/step - loss: 2.4396 - mae: 1.2063\n",
      "Epoch 115/150\n",
      "\u001B[1m142/142\u001B[0m \u001B[32m━━━━━━━━━━━━━━━━━━━━\u001B[0m\u001B[37m\u001B[0m \u001B[1m3s\u001B[0m 20ms/step - loss: 2.3840 - mae: 1.1900\n",
      "Epoch 116/150\n",
      "\u001B[1m142/142\u001B[0m \u001B[32m━━━━━━━━━━━━━━━━━━━━\u001B[0m\u001B[37m\u001B[0m \u001B[1m3s\u001B[0m 19ms/step - loss: 2.4314 - mae: 1.2090\n",
      "Epoch 117/150\n",
      "\u001B[1m142/142\u001B[0m \u001B[32m━━━━━━━━━━━━━━━━━━━━\u001B[0m\u001B[37m\u001B[0m \u001B[1m3s\u001B[0m 19ms/step - loss: 2.3825 - mae: 1.1883\n",
      "Epoch 118/150\n",
      "\u001B[1m142/142\u001B[0m \u001B[32m━━━━━━━━━━━━━━━━━━━━\u001B[0m\u001B[37m\u001B[0m \u001B[1m3s\u001B[0m 22ms/step - loss: 2.4033 - mae: 1.1966\n",
      "Epoch 119/150\n",
      "\u001B[1m142/142\u001B[0m \u001B[32m━━━━━━━━━━━━━━━━━━━━\u001B[0m\u001B[37m\u001B[0m \u001B[1m3s\u001B[0m 19ms/step - loss: 2.3791 - mae: 1.1861\n",
      "Epoch 120/150\n",
      "\u001B[1m142/142\u001B[0m \u001B[32m━━━━━━━━━━━━━━━━━━━━\u001B[0m\u001B[37m\u001B[0m \u001B[1m3s\u001B[0m 19ms/step - loss: 2.3960 - mae: 1.1993\n",
      "Epoch 121/150\n",
      "\u001B[1m142/142\u001B[0m \u001B[32m━━━━━━━━━━━━━━━━━━━━\u001B[0m\u001B[37m\u001B[0m \u001B[1m3s\u001B[0m 19ms/step - loss: 2.3725 - mae: 1.1878\n",
      "Epoch 122/150\n",
      "\u001B[1m142/142\u001B[0m \u001B[32m━━━━━━━━━━━━━━━━━━━━\u001B[0m\u001B[37m\u001B[0m \u001B[1m3s\u001B[0m 19ms/step - loss: 2.2648 - mae: 1.1609\n",
      "Epoch 123/150\n",
      "\u001B[1m142/142\u001B[0m \u001B[32m━━━━━━━━━━━━━━━━━━━━\u001B[0m\u001B[37m\u001B[0m \u001B[1m3s\u001B[0m 21ms/step - loss: 2.3596 - mae: 1.1790\n",
      "Epoch 124/150\n",
      "\u001B[1m142/142\u001B[0m \u001B[32m━━━━━━━━━━━━━━━━━━━━\u001B[0m\u001B[37m\u001B[0m \u001B[1m3s\u001B[0m 18ms/step - loss: 2.2864 - mae: 1.1710\n",
      "Epoch 125/150\n",
      "\u001B[1m142/142\u001B[0m \u001B[32m━━━━━━━━━━━━━━━━━━━━\u001B[0m\u001B[37m\u001B[0m \u001B[1m3s\u001B[0m 19ms/step - loss: 2.2135 - mae: 1.1486\n",
      "Epoch 126/150\n",
      "\u001B[1m142/142\u001B[0m \u001B[32m━━━━━━━━━━━━━━━━━━━━\u001B[0m\u001B[37m\u001B[0m \u001B[1m3s\u001B[0m 19ms/step - loss: 2.2813 - mae: 1.1639\n",
      "Epoch 127/150\n",
      "\u001B[1m142/142\u001B[0m \u001B[32m━━━━━━━━━━━━━━━━━━━━\u001B[0m\u001B[37m\u001B[0m \u001B[1m3s\u001B[0m 19ms/step - loss: 2.2197 - mae: 1.1483\n",
      "Epoch 128/150\n",
      "\u001B[1m142/142\u001B[0m \u001B[32m━━━━━━━━━━━━━━━━━━━━\u001B[0m\u001B[37m\u001B[0m \u001B[1m3s\u001B[0m 21ms/step - loss: 2.3093 - mae: 1.1704\n",
      "Epoch 129/150\n",
      "\u001B[1m142/142\u001B[0m \u001B[32m━━━━━━━━━━━━━━━━━━━━\u001B[0m\u001B[37m\u001B[0m \u001B[1m3s\u001B[0m 18ms/step - loss: 2.2970 - mae: 1.1608\n",
      "Epoch 130/150\n",
      "\u001B[1m142/142\u001B[0m \u001B[32m━━━━━━━━━━━━━━━━━━━━\u001B[0m\u001B[37m\u001B[0m \u001B[1m3s\u001B[0m 18ms/step - loss: 2.3230 - mae: 1.1681\n",
      "Epoch 131/150\n",
      "\u001B[1m142/142\u001B[0m \u001B[32m━━━━━━━━━━━━━━━━━━━━\u001B[0m\u001B[37m\u001B[0m \u001B[1m3s\u001B[0m 18ms/step - loss: 2.2904 - mae: 1.1745\n",
      "Epoch 132/150\n",
      "\u001B[1m142/142\u001B[0m \u001B[32m━━━━━━━━━━━━━━━━━━━━\u001B[0m\u001B[37m\u001B[0m \u001B[1m3s\u001B[0m 19ms/step - loss: 2.2480 - mae: 1.1505\n",
      "Epoch 133/150\n",
      "\u001B[1m142/142\u001B[0m \u001B[32m━━━━━━━━━━━━━━━━━━━━\u001B[0m\u001B[37m\u001B[0m \u001B[1m3s\u001B[0m 21ms/step - loss: 2.3150 - mae: 1.1793\n",
      "Epoch 134/150\n",
      "\u001B[1m142/142\u001B[0m \u001B[32m━━━━━━━━━━━━━━━━━━━━\u001B[0m\u001B[37m\u001B[0m \u001B[1m3s\u001B[0m 19ms/step - loss: 2.1796 - mae: 1.1390\n",
      "Epoch 135/150\n",
      "\u001B[1m142/142\u001B[0m \u001B[32m━━━━━━━━━━━━━━━━━━━━\u001B[0m\u001B[37m\u001B[0m \u001B[1m3s\u001B[0m 19ms/step - loss: 2.2736 - mae: 1.1602\n",
      "Epoch 136/150\n",
      "\u001B[1m142/142\u001B[0m \u001B[32m━━━━━━━━━━━━━━━━━━━━\u001B[0m\u001B[37m\u001B[0m \u001B[1m3s\u001B[0m 19ms/step - loss: 2.2307 - mae: 1.1438\n",
      "Epoch 137/150\n",
      "\u001B[1m142/142\u001B[0m \u001B[32m━━━━━━━━━━━━━━━━━━━━\u001B[0m\u001B[37m\u001B[0m \u001B[1m3s\u001B[0m 19ms/step - loss: 2.2401 - mae: 1.1528\n",
      "Epoch 138/150\n",
      "\u001B[1m142/142\u001B[0m \u001B[32m━━━━━━━━━━━━━━━━━━━━\u001B[0m\u001B[37m\u001B[0m \u001B[1m3s\u001B[0m 21ms/step - loss: 2.1780 - mae: 1.1296\n",
      "Epoch 139/150\n",
      "\u001B[1m142/142\u001B[0m \u001B[32m━━━━━━━━━━━━━━━━━━━━\u001B[0m\u001B[37m\u001B[0m \u001B[1m3s\u001B[0m 18ms/step - loss: 2.1760 - mae: 1.1385\n",
      "Epoch 140/150\n",
      "\u001B[1m142/142\u001B[0m \u001B[32m━━━━━━━━━━━━━━━━━━━━\u001B[0m\u001B[37m\u001B[0m \u001B[1m3s\u001B[0m 19ms/step - loss: 2.1288 - mae: 1.1292\n",
      "Epoch 141/150\n",
      "\u001B[1m142/142\u001B[0m \u001B[32m━━━━━━━━━━━━━━━━━━━━\u001B[0m\u001B[37m\u001B[0m \u001B[1m3s\u001B[0m 19ms/step - loss: 2.2181 - mae: 1.1536\n",
      "Epoch 142/150\n",
      "\u001B[1m142/142\u001B[0m \u001B[32m━━━━━━━━━━━━━━━━━━━━\u001B[0m\u001B[37m\u001B[0m \u001B[1m3s\u001B[0m 19ms/step - loss: 2.1719 - mae: 1.1369\n",
      "Epoch 143/150\n",
      "\u001B[1m142/142\u001B[0m \u001B[32m━━━━━━━━━━━━━━━━━━━━\u001B[0m\u001B[37m\u001B[0m \u001B[1m3s\u001B[0m 20ms/step - loss: 2.1697 - mae: 1.1393\n",
      "Epoch 144/150\n",
      "\u001B[1m142/142\u001B[0m \u001B[32m━━━━━━━━━━━━━━━━━━━━\u001B[0m\u001B[37m\u001B[0m \u001B[1m3s\u001B[0m 19ms/step - loss: 2.1961 - mae: 1.1442\n",
      "Epoch 145/150\n",
      "\u001B[1m142/142\u001B[0m \u001B[32m━━━━━━━━━━━━━━━━━━━━\u001B[0m\u001B[37m\u001B[0m \u001B[1m3s\u001B[0m 19ms/step - loss: 2.1556 - mae: 1.1297\n",
      "Epoch 146/150\n",
      "\u001B[1m142/142\u001B[0m \u001B[32m━━━━━━━━━━━━━━━━━━━━\u001B[0m\u001B[37m\u001B[0m \u001B[1m3s\u001B[0m 19ms/step - loss: 2.2168 - mae: 1.1510\n",
      "Epoch 147/150\n",
      "\u001B[1m142/142\u001B[0m \u001B[32m━━━━━━━━━━━━━━━━━━━━\u001B[0m\u001B[37m\u001B[0m \u001B[1m3s\u001B[0m 19ms/step - loss: 2.1251 - mae: 1.1264\n",
      "Epoch 148/150\n",
      "\u001B[1m142/142\u001B[0m \u001B[32m━━━━━━━━━━━━━━━━━━━━\u001B[0m\u001B[37m\u001B[0m \u001B[1m3s\u001B[0m 20ms/step - loss: 2.1908 - mae: 1.1389\n",
      "Epoch 149/150\n",
      "\u001B[1m142/142\u001B[0m \u001B[32m━━━━━━━━━━━━━━━━━━━━\u001B[0m\u001B[37m\u001B[0m \u001B[1m3s\u001B[0m 20ms/step - loss: 2.1088 - mae: 1.1209\n",
      "Epoch 150/150\n",
      "\u001B[1m142/142\u001B[0m \u001B[32m━━━━━━━━━━━━━━━━━━━━\u001B[0m\u001B[37m\u001B[0m \u001B[1m3s\u001B[0m 19ms/step - loss: 2.1628 - mae: 1.1314\n"
     ]
    },
    {
     "data": {
      "text/plain": [
       "<keras.src.callbacks.history.History at 0x16604dfd0>"
      ]
     },
     "execution_count": 30,
     "metadata": {},
     "output_type": "execute_result"
    }
   ],
   "execution_count": 30
  },
  {
   "cell_type": "code",
   "metadata": {
    "ExecuteTime": {
     "end_time": "2025-04-20T12:26:00.168884Z",
     "start_time": "2025-04-20T12:25:57.102603Z"
    }
   },
   "source": [
    "lstm_model.save('final_lstm.h5')\n",
    "y_pred = lstm_model.predict(testing_vectors)\n",
    "y_pred = np.around(y_pred)\n",
    "y_pred"
   ],
   "outputs": [
    {
     "name": "stderr",
     "output_type": "stream",
     "text": [
      "WARNING:absl:You are saving your model as an HDF5 file via `model.save()` or `keras.saving.save_model(model)`. This file format is considered legacy. We recommend using instead the native Keras format, e.g. `model.save('my_model.keras')` or `keras.saving.save_model(model, 'my_model.keras')`. \n"
     ]
    },
    {
     "name": "stdout",
     "output_type": "stream",
     "text": [
      "\u001B[1m122/122\u001B[0m \u001B[32m━━━━━━━━━━━━━━━━━━━━\u001B[0m\u001B[37m\u001B[0m \u001B[1m3s\u001B[0m 13ms/step\n"
     ]
    },
    {
     "data": {
      "text/plain": [
       "array([[3.],\n",
       "       [6.],\n",
       "       [6.],\n",
       "       ...,\n",
       "       [8.],\n",
       "       [8.],\n",
       "       [9.]], dtype=float32)"
      ]
     },
     "execution_count": 31,
     "metadata": {},
     "output_type": "execute_result"
    }
   ],
   "execution_count": 31
  },
  {
   "metadata": {},
   "cell_type": "code",
   "outputs": [],
   "execution_count": null,
   "source": ""
  }
 ],
 "metadata": {
  "kernelspec": {
   "display_name": "Python 3",
   "language": "python",
   "name": "python3"
  },
  "language_info": {
   "codemirror_mode": {
    "name": "ipython",
    "version": 3
   },
   "file_extension": ".py",
   "mimetype": "text/x-python",
   "name": "python",
   "nbconvert_exporter": "python",
   "pygments_lexer": "ipython3",
   "version": "3.5.6"
  }
 },
 "nbformat": 4,
 "nbformat_minor": 4
}
